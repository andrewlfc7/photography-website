{
 "cells": [
  {
   "cell_type": "code",
   "execution_count": null,
   "metadata": {
    "collapsed": true
   },
   "outputs": [],
   "source": []
  },
  {
   "cell_type": "code",
   "execution_count": 1,
   "outputs": [
    {
     "name": "stdout",
     "output_type": "stream",
     "text": [
      "Collecting qrcode\r\n",
      "  Downloading qrcode-7.4.2-py3-none-any.whl (46 kB)\r\n",
      "\u001B[2K     \u001B[90m━━━━━━━━━━━━━━━━━━━━━━━━━━━━━━━━━━━━━━━━\u001B[0m \u001B[32m46.2/46.2 kB\u001B[0m \u001B[31m1.0 MB/s\u001B[0m eta \u001B[36m0:00:00\u001B[0m\r\n",
      "\u001B[?25hRequirement already satisfied: typing-extensions in /Users/andrew/Documents/Coding Projects/lib/python3.9/site-packages (from qrcode) (4.5.0)\r\n",
      "Collecting pypng (from qrcode)\r\n",
      "  Downloading pypng-0.20220715.0-py3-none-any.whl (58 kB)\r\n",
      "\u001B[2K     \u001B[90m━━━━━━━━━━━━━━━━━━━━━━━━━━━━━━━━━━━━━━━\u001B[0m \u001B[32m58.1/58.1 kB\u001B[0m \u001B[31m900.8 kB/s\u001B[0m eta \u001B[36m0:00:00\u001B[0m \u001B[36m0:00:01\u001B[0m\r\n",
      "\u001B[?25h\u001B[33mWARNING: Error parsing requirements for pip: [Errno 2] No such file or directory: '/Users/andrew/Documents/Coding Projects/lib/python3.9/site-packages/pip-22.3.1.dist-info/METADATA'\u001B[0m\u001B[33m\r\n",
      "\u001B[0mInstalling collected packages: pypng, qrcode\r\n",
      "Successfully installed pypng-0.20220715.0 qrcode-7.4.2\r\n"
     ]
    }
   ],
   "source": [
    "gsutil -m cp -r gs://scripts-pipeline/equity_db/* /home/acarless908/pipeline/DDDDDDD\n",
    "\n",
    "\n",
    "\n",
    "\n",
    "gsutil -m cp -r gs://drewfilms-website/photography website/*  /home/acarless908/website"
   ],
   "metadata": {
    "collapsed": false,
    "ExecuteTime": {
     "end_time": "2023-06-26T22:20:30.302033Z",
     "start_time": "2023-06-26T22:20:17.049990Z"
    }
   }
  },
  {
   "cell_type": "code",
   "execution_count": null,
   "outputs": [],
   "source": [],
   "metadata": {
    "collapsed": false
   }
  },
  {
   "cell_type": "code",
   "execution_count": 3,
   "outputs": [],
   "source": [
    "import qrcode\n",
    "\n",
    "# Define the website URL\n",
    "website_url = \"https://www.drewfilms.net\"\n",
    "\n",
    "# Generate the QR code\n",
    "qr = qrcode.QRCode(version=1, box_size=10, border=5)\n",
    "qr.add_data(website_url)\n",
    "qr.make(fit=True)\n",
    "\n",
    "# Create an image from the QR code\n",
    "qr_image = qr.make_image(fill_color=\"black\", back_color=\"white\")\n",
    "\n",
    "# Save the QR code image\n",
    "qr_image.save(\"qr/portfolio_qr_code.png\")\n"
   ],
   "metadata": {
    "collapsed": false,
    "ExecuteTime": {
     "end_time": "2023-09-15T00:54:11.392373Z",
     "start_time": "2023-09-15T00:54:11.378893Z"
    }
   }
  },
  {
   "cell_type": "code",
   "execution_count": null,
   "outputs": [],
   "source": [],
   "metadata": {
    "collapsed": false
   }
  }
 ],
 "metadata": {
  "kernelspec": {
   "display_name": "Python 3",
   "language": "python",
   "name": "python3"
  },
  "language_info": {
   "codemirror_mode": {
    "name": "ipython",
    "version": 2
   },
   "file_extension": ".py",
   "mimetype": "text/x-python",
   "name": "python",
   "nbconvert_exporter": "python",
   "pygments_lexer": "ipython2",
   "version": "2.7.6"
  }
 },
 "nbformat": 4,
 "nbformat_minor": 0
}
